{
 "cells": [
  {
   "cell_type": "code",
   "execution_count": 1,
   "metadata": {},
   "outputs": [],
   "source": [
    "import re\n",
    "from Bio import SeqIO\n",
    "from Bio.SeqUtils import gc_fraction\n",
    "import matplotlib.pyplot as plt\n",
    "from collections import Counter\n",
    "from Bio.Blast import NCBIWWW, NCBIXML\n",
    "import numpy as np\n",
    "import pandas as pd\n",
    "\n",
    "file_path = \"reads_for_analysis.fastq\""
   ]
  },
  {
   "cell_type": "code",
   "execution_count": 2,
   "metadata": {},
   "outputs": [],
   "source": [
    "# (a) Nustatyti kokybės kodavimą\n",
    "def detect_quality_encoding(fastq_file):\n",
    "    quality_scores = []\n",
    "    \n",
    "    for record in SeqIO.parse(fastq_file, \"fastq\"):\n",
    "        quality_scores.extend(record.letter_annotations[\"phred_quality\"])\n",
    "    \n",
    "    min_score = min(quality_scores)\n",
    "    max_score = max(quality_scores)\n",
    "    \n",
    "    if 0 <= min_score <= 93 and 33 <= max_score <= 126:\n",
    "        return \"Sanger (Phred+33)\"\n",
    "    elif -5 <= min_score and max_score <= 40 and 64 <= max_score:\n",
    "        return \"Solexa (Solexa+64)\"\n",
    "    elif 0 <= min_score <= 40 and 64 <= max_score <= 104:\n",
    "        return \"Illumina 1.3+ (Phred+64)\"\n",
    "    elif 3 <= min_score <= 40 and 64 <= max_score <= 104:\n",
    "        return \"Illumina 1.5+ (Phred+64)\"\n",
    "    elif 0 <= min_score <= 41 and 33 <= max_score <= 74:\n",
    "        return \"Illumina 1.8+ (Phred+33)\"\n",
    "    else:\n",
    "        return \"Nežinomas\""
   ]
  },
  {
   "cell_type": "code",
   "execution_count": 3,
   "metadata": {},
   "outputs": [],
   "source": [
    "# (b) Analizuoti C/G pasiskirstymą\n",
    "def analyze_gc_content(fastq_file):\n",
    "    gc_ratios = []\n",
    "    sequences = []\n",
    "\n",
    "    for record in SeqIO.parse(fastq_file, \"fastq\"):\n",
    "        sequence = record.seq\n",
    "        gc_count = sequence.count(\"G\") + sequence.count(\"C\")\n",
    "        gc_ratio = (gc_count / len(sequence)) * 100\n",
    "        gc_ratios.append(gc_ratio)\n",
    "        sequences.append((gc_ratio, record.id, str(sequence)))\n",
    "\n",
    "    bins = range(0, 101, 5)\n",
    "    plt.hist(gc_ratios, bins=bins, edgecolor='black', alpha=0.7)\n",
    "    plt.title(\"C/G nukleotidų pasiskirstymas\")\n",
    "    plt.xlabel(\"C/G dalis (%)\")\n",
    "    plt.ylabel(\"Read'ų skaičius\")\n",
    "    plt.grid(axis='y', linestyle='--', alpha=0.7)\n",
    "    plt.show()\n",
    "\n",
    "    hist, bin_edges = np.histogram(gc_ratios, bins=bins)\n",
    "    peak_bins = []\n",
    "    for i in range(1, len(hist) - 1):\n",
    "        if hist[i] > hist[i - 1] and hist[i] > hist[i + 1]:\n",
    "            peak_bins.append(bin_edges[i])\n",
    "\n",
    "    peak_sequences = {}\n",
    "    for peak in peak_bins:\n",
    "        bin_min = peak\n",
    "        bin_max = peak + 5\n",
    "        filtered_seqs = [\n",
    "            (gc, seq_id, seq)\n",
    "            for gc, seq_id, seq in sequences\n",
    "            if bin_min <= gc < bin_max\n",
    "        ]\n",
    "        peak_sequences[peak] = filtered_seqs[:5] \n",
    "\n",
    "    all_ranges_sequences = {}\n",
    "    for i in range(len(bin_edges) - 1):\n",
    "        bin_min = bin_edges[i]\n",
    "        bin_max = bin_edges[i + 1]\n",
    "        filtered_seqs = [\n",
    "            (gc, seq_id, seq)\n",
    "            for gc, seq_id, seq in sequences\n",
    "            if bin_min <= gc < bin_max\n",
    "        ]\n",
    "        all_ranges_sequences[f\"{bin_min}-{bin_max}\"] = filtered_seqs[:5]\n",
    "\n",
    "    return peak_sequences, all_ranges_sequences\n"
   ]
  },
  {
   "cell_type": "code",
   "execution_count": 4,
   "metadata": {},
   "outputs": [],
   "source": [
    "# (c) BLAST'o analizė\n",
    "def perform_blast_search(sequences, database=\"nt\", organism=\"bacteria\"):\n",
    "    results = []\n",
    "    for record_id, sequence in sequences:\n",
    "        print(f\"BLAST search for {record_id}\")\n",
    "        result_handle = NCBIWWW.qblast(program=\"blastn\", database=database, sequence=sequence, entrez_query=organism)\n",
    "        blast_record = NCBIXML.read(result_handle)\n",
    "        if blast_record.alignments:\n",
    "            top_hit = blast_record.alignments[0].hit_def\n",
    "            results.append((record_id, top_hit.split(\" \")[0]))\n",
    "        else:\n",
    "            results.append((record_id, \"No match\"))\n",
    "    return results"
   ]
  },
  {
   "cell_type": "code",
   "execution_count": 5,
   "metadata": {},
   "outputs": [
    {
     "name": "stdout",
     "output_type": "stream",
     "text": [
      "Kokybės kodavimas: Sanger (Phred+33)\n"
     ]
    },
    {
     "data": {
      "image/png": "[encoded data removed]",
      "text/plain": [
       "<Figure size 640x480 with 1 Axes>"
      ]
     },
     "metadata": {},
     "output_type": "display_data"
    },
    {
     "name": "stdout",
     "output_type": "stream",
     "text": [
      "Gauti stambūs piko taškai: 3\n",
      "BLAST search for M00827:12:000000000-AEUNW:1:1101:12983:1610\n",
      "BLAST search for M00827:12:000000000-AEUNW:1:1101:13901:2032\n",
      "BLAST search for M00827:12:000000000-AEUNW:1:1101:21543:2685\n",
      "BLAST search for M00827:12:000000000-AEUNW:1:1101:20667:3491\n",
      "BLAST search for M00827:12:000000000-AEUNW:1:1101:22513:3532\n",
      "BLAST search for M00827:12:000000000-AEUNW:1:1101:18967:1954\n",
      "BLAST search for M00827:12:000000000-AEUNW:1:1101:13519:2271\n",
      "BLAST search for M00827:12:000000000-AEUNW:1:1101:18503:2566\n",
      "BLAST search for M00827:12:000000000-AEUNW:1:1101:14568:2958\n",
      "BLAST search for M00827:12:000000000-AEUNW:1:1101:15296:3158\n",
      "BLAST search for M00827:12:000000000-AEUNW:1:1101:20958:2801\n",
      "BLAST search for M00827:12:000000000-AEUNW:1:1101:22220:3113\n",
      "BLAST search for M00827:12:000000000-AEUNW:1:1101:21003:4810\n",
      "BLAST search for M00827:12:000000000-AEUNW:1:1101:7803:4993\n",
      "BLAST search for M00827:12:000000000-AEUNW:1:1101:18920:5062\n",
      "                                        Read ID        Organism\n",
      "0   M00827:12:000000000-AEUNW:1:1101:12983:1610  Staphylococcus\n",
      "1   M00827:12:000000000-AEUNW:1:1101:13901:2032  Staphylococcus\n",
      "2   M00827:12:000000000-AEUNW:1:1101:21543:2685  Staphylococcus\n",
      "3   M00827:12:000000000-AEUNW:1:1101:20667:3491  Staphylococcus\n",
      "4   M00827:12:000000000-AEUNW:1:1101:22513:3532  Staphylococcus\n",
      "5   M00827:12:000000000-AEUNW:1:1101:18967:1954     Escherichia\n",
      "6   M00827:12:000000000-AEUNW:1:1101:13519:2271     Escherichia\n",
      "7   M00827:12:000000000-AEUNW:1:1101:18503:2566     Escherichia\n",
      "8   M00827:12:000000000-AEUNW:1:1101:14568:2958     Escherichia\n",
      "9   M00827:12:000000000-AEUNW:1:1101:15296:3158     Escherichia\n",
      "10  M00827:12:000000000-AEUNW:1:1101:20958:2801         Thermus\n",
      "11  M00827:12:000000000-AEUNW:1:1101:22220:3113         Thermus\n",
      "12  M00827:12:000000000-AEUNW:1:1101:21003:4810         Thermus\n",
      "13   M00827:12:000000000-AEUNW:1:1101:7803:4993         Thermus\n",
      "14  M00827:12:000000000-AEUNW:1:1101:18920:5062         Thermus\n"
     ]
    }
   ],
   "source": [
    "# (a) Nustatyti kokybės kodavimą\n",
    "print(\"Kokybės kodavimas:\", detect_quality_encoding(file_path))\n",
    "\n",
    "\n",
    "# (b) Analizuoti C/G pasiskirstymą\n",
    "gc_peaks, all_gc_peaks = analyze_gc_content(file_path)\n",
    "print(f\"Gauti stambūs piko taškai: {len(gc_peaks)}\")\n",
    "\n",
    "# (c) BLAST'o analizė\n",
    "sequences_for_blast = [\n",
    "    (seq_id, sequence)\n",
    "    for peak_bin, sequences in gc_peaks.items()\n",
    "    for _, seq_id, sequence in sequences\n",
    "]\n",
    "blast_results = perform_blast_search(sequences_for_blast)\n",
    "\n",
    "# Lentelės sudarymas\n",
    "results_df = pd.DataFrame(blast_results, columns=[\"Read ID\", \"Organism\"])\n",
    "print(results_df)\n",
    "results_df.to_csv(\"blast_results.csv\", index=False)"
   ]
  }
 ],
 "metadata": {
  "kernelspec": {
   "display_name": "Python 3",
   "language": "python",
   "name": "python3"
  },
  "language_info": {
   "codemirror_mode": {
    "name": "ipython",
    "version": 3
   },
   "file_extension": ".py",
   "mimetype": "text/x-python",
   "name": "python",
   "nbconvert_exporter": "python",
   "pygments_lexer": "ipython3",
   "version": "3.12.2"
  }
 },
 "nbformat": 4,
 "nbformat_minor": 2
}
